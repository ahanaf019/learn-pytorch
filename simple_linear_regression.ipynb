{
 "cells": [
  {
   "cell_type": "code",
   "execution_count": 12,
   "metadata": {},
   "outputs": [],
   "source": [
    "import torch\n",
    "from torch import nn\n",
    "\n",
    "from sklearn.model_selection import train_test_split\n",
    "import numpy as np\n",
    "import matplotlib.pyplot as plt\n",
    "from pathlib import  Path"
   ]
  },
  {
   "cell_type": "code",
   "execution_count": 21,
   "metadata": {},
   "outputs": [
    {
     "name": "stdout",
     "output_type": "stream",
     "text": [
      "Device: cuda\n"
     ]
    }
   ],
   "source": [
    "device = 'cuda' if torch.cuda.is_available() else \"cpu\"\n",
    "print(f'Device: {device}')"
   ]
  },
  {
   "cell_type": "code",
   "execution_count": 32,
   "metadata": {},
   "outputs": [
    {
     "data": {
      "text/plain": [
       "(torch.Size([200, 1]), torch.Size([200, 1]), 200, 200)"
      ]
     },
     "execution_count": 32,
     "metadata": {},
     "output_type": "execute_result"
    }
   ],
   "source": [
    "# y = sin(x) + 0.5x^2 − 3\n",
    "def f(x):\n",
    "    return torch.sin(x) + 0.5 * x**2 - 3\n",
    "\n",
    "start = -10\n",
    "stop = 10\n",
    "step = 0.1\n",
    "\n",
    "X = torch.arange(start, stop, step).unsqueeze(-1)\n",
    "y = f(X)\n",
    "\n",
    "X.shape, y.shape, len(X), len(y)"
   ]
  },
  {
   "cell_type": "code",
   "execution_count": 33,
   "metadata": {},
   "outputs": [
    {
     "data": {
      "text/plain": [
       "(160, 40, 160, 40)"
      ]
     },
     "execution_count": 33,
     "metadata": {},
     "output_type": "execute_result"
    }
   ],
   "source": [
    "split = 0.8\n",
    "\n",
    "X_train, X_test, y_train, y_test = train_test_split(X, y, train_size=split, random_state=255)\n",
    "len(X_train), len(X_test), len(y_train), len(y_test)"
   ]
  },
  {
   "cell_type": "code",
   "execution_count": 36,
   "metadata": {},
   "outputs": [
    {
     "data": {
      "text/plain": [
       "<matplotlib.collections.PathCollection at 0x7f1ef05bde50>"
      ]
     },
     "execution_count": 36,
     "metadata": {},
     "output_type": "execute_result"
    },
    {
     "data": {
      "image/png": "[encoded data removed]",
      "text/plain": [
       "<Figure size 640x480 with 1 Axes>"
      ]
     },
     "metadata": {},
     "output_type": "display_data"
    }
   ],
   "source": [
    "plt.scatter(X_train, y_train, color='blue',)\n",
    "plt.scatter(X_test, y_test, color='green',)"
   ]
  },
  {
   "cell_type": "code",
   "execution_count": 19,
   "metadata": {},
   "outputs": [],
   "source": [
    "class LinearReg(nn.Module):\n",
    "    def __init__(self):\n",
    "        super().__init__()\n",
    "        self.linear = nn.Sequential(\n",
    "            nn.Linear(1, 16),\n",
    "            nn.ReLU(),\n",
    "            nn.Linear(16, 32),\n",
    "            nn.ReLU(),\n",
    "            nn.Linear(32, 1)\n",
    "        )\n",
    "        \n",
    "    def forward(self, x):\n",
    "        return self.linear(x)"
   ]
  },
  {
   "cell_type": "code",
   "execution_count": 39,
   "metadata": {},
   "outputs": [],
   "source": [
    "def save_state(save_path: Path, model: nn.Module, optim: torch.optim.Optimizer, epoch):\n",
    "    model_state_dict = model.state_dict()\n",
    "    optim_state_dict = optim.state_dict()\n",
    "    \n",
    "    state_dict = {\n",
    "        'epoch': epoch,\n",
    "        'model_state' : model_state_dict,\n",
    "        'optim_state' : optim_state_dict,\n",
    "    }\n",
    "    torch.save(state_dict, save_path)\n",
    "    print('Model state saved.')"
   ]
  },
  {
   "cell_type": "code",
   "execution_count": 72,
   "metadata": {},
   "outputs": [
    {
     "data": {
      "text/plain": [
       "LinearReg(\n",
       "  (linear): Sequential(\n",
       "    (0): Linear(in_features=1, out_features=16, bias=True)\n",
       "    (1): ReLU()\n",
       "    (2): Linear(in_features=16, out_features=32, bias=True)\n",
       "    (3): ReLU()\n",
       "    (4): Linear(in_features=32, out_features=1, bias=True)\n",
       "  )\n",
       ")"
      ]
     },
     "execution_count": 72,
     "metadata": {},
     "output_type": "execute_result"
    }
   ],
   "source": [
    "model = LinearReg().to(device)\n",
    "model"
   ]
  },
  {
   "cell_type": "code",
   "execution_count": 73,
   "metadata": {},
   "outputs": [],
   "source": [
    "optim = torch.optim.Adam(model.parameters(), lr=1e-3)\n",
    "loss_fn = nn.MSELoss()"
   ]
  },
  {
   "cell_type": "code",
   "execution_count": 74,
   "metadata": {},
   "outputs": [
    {
     "name": "stdout",
     "output_type": "stream",
     "text": [
      "Epoch 0/3000:\tTrain Loss: 374.0302\tVal Loss: 495.0823\n",
      "Model state saved.\n",
      "Epoch 100/3000:\tTrain Loss: 133.0027\tVal Loss: 195.7293\n",
      "Model state saved.\n",
      "Epoch 200/3000:\tTrain Loss: 36.2756\tVal Loss: 52.5056\n",
      "Model state saved.\n",
      "Epoch 300/3000:\tTrain Loss: 20.8110\tVal Loss: 31.0349\n",
      "Model state saved.\n",
      "Epoch 400/3000:\tTrain Loss: 13.4150\tVal Loss: 19.7368\n",
      "Model state saved.\n",
      "Epoch 500/3000:\tTrain Loss: 10.0657\tVal Loss: 14.6875\n",
      "Model state saved.\n",
      "Epoch 600/3000:\tTrain Loss: 8.4163\tVal Loss: 12.7665\n",
      "Model state saved.\n",
      "Epoch 700/3000:\tTrain Loss: 6.9598\tVal Loss: 11.0259\n",
      "Model state saved.\n",
      "Epoch 800/3000:\tTrain Loss: 5.6100\tVal Loss: 9.2603\n",
      "Model state saved.\n",
      "Epoch 900/3000:\tTrain Loss: 4.3673\tVal Loss: 7.5564\n",
      "Model state saved.\n",
      "Epoch 1000/3000:\tTrain Loss: 3.2784\tVal Loss: 5.9941\n",
      "Model state saved.\n",
      "Epoch 1100/3000:\tTrain Loss: 2.3901\tVal Loss: 4.6878\n",
      "Model state saved.\n",
      "Epoch 1200/3000:\tTrain Loss: 1.7137\tVal Loss: 3.6236\n",
      "Model state saved.\n",
      "Epoch 1300/3000:\tTrain Loss: 1.2289\tVal Loss: 2.7933\n",
      "Model state saved.\n",
      "Epoch 1400/3000:\tTrain Loss: 0.8931\tVal Loss: 2.1706\n",
      "Model state saved.\n",
      "Epoch 1500/3000:\tTrain Loss: 0.6681\tVal Loss: 1.7119\n",
      "Model state saved.\n",
      "Epoch 1600/3000:\tTrain Loss: 0.5157\tVal Loss: 1.3781\n",
      "Model state saved.\n",
      "Epoch 1700/3000:\tTrain Loss: 0.4072\tVal Loss: 1.1308\n",
      "Model state saved.\n",
      "Epoch 1800/3000:\tTrain Loss: 0.3328\tVal Loss: 0.9489\n",
      "Model state saved.\n",
      "Epoch 1900/3000:\tTrain Loss: 0.2749\tVal Loss: 0.7995\n",
      "Model state saved.\n",
      "Epoch 2000/3000:\tTrain Loss: 0.2318\tVal Loss: 0.6856\n",
      "Model state saved.\n",
      "Epoch 2100/3000:\tTrain Loss: 0.1988\tVal Loss: 0.5891\n",
      "Model state saved.\n",
      "Epoch 2200/3000:\tTrain Loss: 0.1712\tVal Loss: 0.5028\n",
      "Model state saved.\n",
      "Epoch 2300/3000:\tTrain Loss: 0.1504\tVal Loss: 0.4342\n",
      "Model state saved.\n",
      "Epoch 2400/3000:\tTrain Loss: 0.1297\tVal Loss: 0.3619\n",
      "Model state saved.\n",
      "Epoch 2500/3000:\tTrain Loss: 0.1067\tVal Loss: 0.3030\n",
      "Model state saved.\n",
      "Epoch 2600/3000:\tTrain Loss: 0.0844\tVal Loss: 0.2523\n",
      "Model state saved.\n",
      "Epoch 2700/3000:\tTrain Loss: 0.0656\tVal Loss: 0.2074\n",
      "Model state saved.\n",
      "Epoch 2800/3000:\tTrain Loss: 0.0515\tVal Loss: 0.1767\n",
      "Model state saved.\n",
      "Epoch 2900/3000:\tTrain Loss: 0.0412\tVal Loss: 0.1509\n",
      "Model state saved.\n"
     ]
    }
   ],
   "source": [
    "num_epochs = 3000\n",
    "\n",
    "epochs_list = []\n",
    "train_losses = []\n",
    "val_losses = []\n",
    "\n",
    "model_dir = Path('models')\n",
    "model_dir.mkdir(parents=True, exist_ok=True)\n",
    "save_path = model_dir / 'state.pth'\n",
    "\n",
    "for epoch in range(num_epochs):\n",
    "    model.train()\n",
    "    y_pred = model(X_train.to(device))\n",
    "    \n",
    "    loss = loss_fn(y_pred, y_train.to(device))\n",
    "    \n",
    "    optim.zero_grad()\n",
    "    loss.backward()\n",
    "    optim.step()\n",
    "    \n",
    "    \n",
    "    model.eval()\n",
    "    \n",
    "    with torch.inference_mode():\n",
    "        y_pred = model(X_test.to(device))\n",
    "        val_loss = loss_fn(y_pred, y_test.to(device))\n",
    "    \n",
    "    if epoch % 100 == 0:\n",
    "        epochs_list.append(epoch)\n",
    "        train_losses.append(loss.cpu().detach().numpy())\n",
    "        val_losses.append(val_loss.cpu().detach().numpy())\n",
    "        \n",
    "        print(f'Epoch {epoch}/{num_epochs}:\\tTrain Loss: {loss:0.4f}\\tVal Loss: {val_loss:0.4f}')\n",
    "        if(val_loss.cpu().numpy() == np.min(val_losses)):\n",
    "            save_state(save_path, model, optim, epoch)"
   ]
  },
  {
   "cell_type": "code",
   "execution_count": 75,
   "metadata": {},
   "outputs": [],
   "source": [
    "def predict(model, X_test):\n",
    "    model.eval()\n",
    "\n",
    "    with torch.inference_mode():\n",
    "        preds = model(X_test.to(device))\n",
    "    preds = preds.cpu()\n",
    "    return preds\n",
    "\n",
    "\n",
    "preds = predict(model, X_test)"
   ]
  },
  {
   "cell_type": "code",
   "execution_count": 76,
   "metadata": {},
   "outputs": [
    {
     "data": {
      "text/plain": [
       "<matplotlib.collections.PathCollection at 0x7f1ec4388bd0>"
      ]
     },
     "execution_count": 76,
     "metadata": {},
     "output_type": "execute_result"
    },
    {
     "data": {
      "image/png": "[encoded data removed]",
      "text/plain": [
       "<Figure size 640x480 with 1 Axes>"
      ]
     },
     "metadata": {},
     "output_type": "display_data"
    }
   ],
   "source": [
    "plt.scatter(X_test, y_test)\n",
    "plt.scatter(X_test, preds)"
   ]
  },
  {
   "cell_type": "code",
   "execution_count": 62,
   "metadata": {},
   "outputs": [
    {
     "data": {
      "text/plain": [
       "dict_keys(['epoch', 'model_state', 'optim_state'])"
      ]
     },
     "execution_count": 62,
     "metadata": {},
     "output_type": "execute_result"
    }
   ],
   "source": [
    "model1 = LinearReg()\n",
    "\n",
    "state_dicts = torch.load(save_path)\n",
    "state_dicts.keys()"
   ]
  },
  {
   "cell_type": "code",
   "execution_count": 68,
   "metadata": {},
   "outputs": [
    {
     "data": {
      "text/plain": [
       "<All keys matched successfully>"
      ]
     },
     "execution_count": 68,
     "metadata": {},
     "output_type": "execute_result"
    }
   ],
   "source": [
    "model1.load_state_dict(state_dicts['model_state'])"
   ]
  },
  {
   "cell_type": "code",
   "execution_count": null,
   "metadata": {},
   "outputs": [
    {
     "data": {
      "text/plain": [
       "<matplotlib.collections.PathCollection at 0x7f1ebc253fd0>"
      ]
     },
     "execution_count": 80,
     "metadata": {},
     "output_type": "execute_result"
    },
    {
     "data": {
      "image/png": "[encoded data removed]",
      "text/plain": [
       "<Figure size 640x480 with 1 Axes>"
      ]
     },
     "metadata": {},
     "output_type": "display_data"
    }
   ],
   "source": [
    "preds1 = predict(model1.to(device), X_test)\n",
    "\n",
    "plt.scatter(X_test, y_test)\n",
    "plt.scatter(X_test, preds1)"
   ]
  },
  {
   "cell_type": "code",
   "execution_count": null,
   "metadata": {},
   "outputs": [],
   "source": []
  }
 ],
 "metadata": {
  "kernelspec": {
   "display_name": "Torch 2.2",
   "language": "python",
   "name": "pythonproject"
  },
  "language_info": {
   "codemirror_mode": {
    "name": "ipython",
    "version": 3
   },
   "file_extension": ".py",
   "mimetype": "text/x-python",
   "name": "python",
   "nbconvert_exporter": "python",
   "pygments_lexer": "ipython3",
   "version": "3.11.10"
  }
 },
 "nbformat": 4,
 "nbformat_minor": 2
}
